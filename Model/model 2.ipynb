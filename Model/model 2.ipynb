{
 "cells": [
  {
   "cell_type": "code",
   "execution_count": null,
   "metadata": {},
   "outputs": [],
   "source": [
    "import os\n",
    "import pandas as pd\n",
    "import numpy as np\n",
    "import keras\n",
    "from keras.models import load_model\n",
    "from keras.utils import CustomObjectScope\n",
    "from keras.initializers import glorot_uniform\n",
    "import time"
   ]
  },
  {
   "cell_type": "code",
   "execution_count": null,
   "metadata": {},
   "outputs": [],
   "source": [
    "def einlesen(model):\n",
    "    pfad=\"\\\\Filezilla\"\n",
    "    last_data=pd.read_csv(pfad+\"\\\\anlauf2.csv\",usecols=[\"rel_time\",\"acc_x\",\"acc_y\",\"acc_z\",\"gyro_x\",\"gyro_y\",\"gyro_z\",\"azimuth\",\"pitch\",\"roll\"])\n",
    "    last_data2=pd.read_csv(pfad+\"\\\\anlauf.csv\",usecols=[\"rel_time\",\"acc_x\",\"acc_y\",\"acc_z\",\"gyro_x\",\"gyro_y\",\"gyro_z\",\"azimuth\",\"pitch\",\"roll\"])\n",
    "    while True:\n",
    "        \n",
    "        if os.path.exists(pfad+\"\\\\test.csv\"):\n",
    "            \n",
    "            try:\n",
    "                data=pd.read_csv(pfad+\"\\\\test.csv\",usecols=[\"rel_time\",\"acc_x\",\"acc_y\",\"acc_z\",\"gyro_x\",\"gyro_y\",\"gyro_z\",\"azimuth\",\"pitch\",\"roll\"])\n",
    "            except:\n",
    "                continue\n",
    "            \n",
    "        if len(data)==2001 and data.at[1998,\"acc_x\"]!=last_data.at[1998,\"acc_x\"]:\n",
    "            time.sleep(0.2)\n",
    "            last_data=data\n",
    "            print(last_data)\n",
    "            test_data=daten_verarbeitung(last_data,last_data2)\n",
    "            daten_prufen(model,test_data)\n",
    "        \n",
    "        if os.path.exists(pfad+\"\\\\test2.csv\"):\n",
    "            \n",
    "            try:    \n",
    "                data2=pd.read_csv(pfad+\"\\\\test2.csv\",usecols=[\"rel_time\",\"acc_x\",\"acc_y\",\"acc_z\",\"gyro_x\",\"gyro_y\",\"gyro_z\",\"azimuth\",\"pitch\",\"roll\"])\n",
    "            except:\n",
    "                continue\n",
    "       \n",
    "        if len(data2)==2001 and data2.at[1998,\"acc_x\"]!=last_data2.at[1998,\"acc_x\"]:\n",
    "                time.sleep(0.2)\n",
    "                last_data2=data2\n",
    "                print(last_data2)\n",
    "                test_data=daten_verarbeitung(last_data,last_data2)\n",
    "                daten_prufen(model,test_data)\n",
    "        "
   ]
  },
  {
   "cell_type": "code",
   "execution_count": null,
   "metadata": {},
   "outputs": [],
   "source": [
    "def daten_verarbeitung(last_data,last_data2):\n",
    "    test_data=[]\n",
    "    \n",
    "    if last_data.at[1,\"rel_time\"]<last_data2.at[1,\"rel_time\"]:\n",
    "        last_data=pd.concat([last_data,last_data2])\n",
    "        print(last_data[\"rel_time\"].values[1995:2005])\n",
    "        for i in range(1,2000):                                         test_data.append(last_data2[[\"acc_x\",\"acc_y\",\"acc_z\",\"gyro_x\",\"gyro_y\",\"gyro_z\",\"azimuth\",\"pitch\",\"roll\"]].values[i:2000+i])\n",
    "    else:\n",
    "        last_data2=pd.concat([last_data2,last_data])\n",
    "        print(last_data2[\"rel_time\"].values[1995:2005])\n",
    "        for i in range(1,2000):         test_data.append(last_data[[\"acc_x\",\"acc_y\",\"acc_z\",\"gyro_x\",\"gyro_y\",\"gyro_z\",\"azimuth\",\"pitch\",\"roll\"]].values[i:2000+i])\n",
    "    return test_data"
   ]
  },
  {
   "cell_type": "code",
   "execution_count": null,
   "metadata": {},
   "outputs": [],
   "source": [
    "#checking the data\n",
    "def daten_prufen(model,test_data):\n",
    "    labels=[]    \n",
    "    test=[]\n",
    "\n",
    "    for i in range(0,1998):\n",
    "        test=[]\n",
    "        test.append(test_data[i])\n",
    "        test=keras.preprocessing.sequence.pad_sequences(test, maxlen=7999, dtype='int32', padding='pre', truncating='pre', value=0.0) #maxlen train_data.shape[1])\n",
    "        test=np.array(test)\n",
    "  \n",
    "        predictions=model.predict(test)\n",
    "     \n",
    "        \n",
    "        if np.argmax(predictions)==1:\n",
    "            labels.append(1) \n",
    "            \n",
    "        else:\n",
    "            labels.append(0)         \n",
    "    labels=np.array(labels)\n",
    "    print(np.max(labels),np.min(labels))\n",
    "    if np.mean(labels)>0.5:\n",
    "        print(\"Abschließendes Label 1\", np.mean(labels))\n",
    "    else:\n",
    "        print(\"Abschließendes Label 0\", np.mean(labels))"
   ]
  },
  {
   "cell_type": "code",
   "execution_count": null,
   "metadata": {},
   "outputs": [],
   "source": [
    "#load model and start\n",
    "with CustomObjectScope({'GlorotUniform': glorot_uniform()}):\n",
    "    model =load_model('Model.pb') \n",
    "einlesen(model)"
   ]
  }
 ],
 "metadata": {
  "language_info": {
   "name": "python"
  }
 },
 "nbformat": 4,
 "nbformat_minor": 2
}
